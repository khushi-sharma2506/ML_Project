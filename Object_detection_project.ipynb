{
 "cells": [
  {
   "cell_type": "code",
   "execution_count": 1,
   "id": "0a5bda5e-ed9a-4ad3-bfc8-67646704f370",
   "metadata": {},
   "outputs": [],
   "source": [
    "# Khushi sharma"
   ]
  },
  {
   "cell_type": "markdown",
   "id": "b19d4faa-cd7d-4305-bf4d-f4b3e2ae2cbc",
   "metadata": {},
   "source": [
    "# OBJECT DETECTION [Classification + Localization]"
   ]
  },
  {
   "cell_type": "markdown",
   "id": "2f3abf38-501a-4a64-89dd-ad4bd917c446",
   "metadata": {},
   "source": [
    "## 1. Importing libraries "
   ]
  },
  {
   "cell_type": "code",
   "execution_count": 2,
   "id": "68587fce-23a7-4d37-9ddf-b416102b883c",
   "metadata": {},
   "outputs": [],
   "source": [
    "import os\n",
    "\n"
   ]
  },
  {
   "cell_type": "code",
   "execution_count": 3,
   "id": "d0153d4b-2307-4a35-93c8-31caa9f3a535",
   "metadata": {},
   "outputs": [
    {
     "name": "stderr",
     "output_type": "stream",
     "text": [
      "C:\\Users\\Khushi\\.conda\\envs\\tfenv\\lib\\site-packages\\tqdm\\auto.py:21: TqdmWarning: IProgress not found. Please update jupyter and ipywidgets. See https://ipywidgets.readthedocs.io/en/stable/user_install.html\n",
      "  from .autonotebook import tqdm as notebook_tqdm\n"
     ]
    }
   ],
   "source": [
    "\n",
    "\n",
    "import numpy as np\n",
    "import matplotlib.pyplot as plt\n",
    "import PIL.Image, PIL.ImageFont, PIL.ImageDraw\n",
    "import tensorflow as tf\n",
    "import tensorflow_datasets as tfds\n"
   ]
  },
  {
   "cell_type": "markdown",
   "id": "8e05ada0-3bf9-4e05-87c9-cf2a3527c84d",
   "metadata": {},
   "source": [
    "## 2. Visualization Utilities"
   ]
  },
  {
   "cell_type": "code",
   "execution_count": 34,
   "id": "7be98e0b-fa04-4081-81a1-f8b3bf56736d",
   "metadata": {},
   "outputs": [],
   "source": [
    "im_width = 75\n",
    "im_height = 75\n",
    "use_normalized_coordinates = True\n"
   ]
  },
  {
   "cell_type": "code",
   "execution_count": 35,
   "id": "129240df-7929-4bad-8e7c-84c97cc8febc",
   "metadata": {},
   "outputs": [],
   "source": [
    "def draw_bounding_boxes_on_image_array(image, boxes, color=[], thickness=1, display_str_list=()):\n",
    "    image_pil = PIL.Image.fromarray(image)\n",
    "    rgbimg = PIL.Image.new(\"RGBA\", image_pil.size)\n",
    "    rgbimg.paste(image_pil)\n",
    "\n",
    "    draw_bounding_boxes_on_image(rgbimg, boxes, color, thickness, display_str_list)\n",
    "    return np.array(rgbimg)\n"
   ]
  },
  {
   "cell_type": "code",
   "execution_count": 36,
   "id": "22875e1d-96c8-41f2-a791-d4786acff33d",
   "metadata": {},
   "outputs": [],
   "source": [
    "def draw_bounding_boxes_on_image(image, boxes, color=[], thickness=1, display_str_list=()):\n",
    "    boxes_shape = boxes.shape\n",
    "    if not boxes_shape:\n",
    "        return\n",
    "    \n",
    "    if len(boxes_shape) != 2 or boxes_shape[1] != 4:\n",
    "        raise ValueError('Input must be of size [N, 4]')\n",
    "    \n",
    "    for i in range(boxes_shape[0]):\n",
    "        draw_bounding_box_on_image(\n",
    "            image,\n",
    "            boxes[i, 0], boxes[i, 1], boxes[i, 2], boxes[i, 3],\n",
    "            color[i], thickness, display_str_list[i]\n",
    "        )\n"
   ]
  },
  {
   "cell_type": "code",
   "execution_count": 37,
   "id": "58276251-bc0f-4ff6-964e-5239a119c27a",
   "metadata": {},
   "outputs": [],
   "source": [
    "def draw_bounding_box_on_image(image, ymin, xmin, ymax, xmax,\n",
    "                               color='red', thickness=1,\n",
    "                               display_str_list=None,\n",
    "                               use_normalized_coordinates=True):\n",
    "    draw = PIL.ImageDraw.Draw(image)\n",
    "    im_width, im_height = image.size\n",
    "\n",
    "    if use_normalized_coordinates:\n",
    "        (left, right, top, bottom) = (xmin * im_width, xmax * im_width,\n",
    "                                      ymin * im_height, ymax * im_height)\n",
    "    else:\n",
    "        (left, right, top, bottom) = (xmin, xmax, ymin, ymax)\n",
    "\n",
    "    draw.line([(left, top), (left, bottom), (right, bottom),\n",
    "               (right, top), (left, top)],\n",
    "              width=thickness, fill=color)\n"
   ]
  },
  {
   "cell_type": "code",
   "execution_count": 38,
   "id": "66fe430e-0173-48ce-8423-900252917626",
   "metadata": {},
   "outputs": [],
   "source": [
    "def dataset_to_numpy_util(training_dataset, validation_dataset, N):\n",
    "    batch_train_ds = training_dataset.unbatch().batch(N)\n",
    "\n",
    "    if tf.executing_eagerly():\n",
    "        for validation_digits, (validation_labels, validation_bboxes) in validation_dataset:\n",
    "            validation_digits = validation_digits.numpy()\n",
    "            validation_labels = validation_labels.numpy()\n",
    "            validation_bboxes = validation_bboxes.numpy()\n",
    "            break\n",
    "        for training_digits, (training_labels, training_bboxes) in training_dataset:\n",
    "            training_digits = training_digits.numpy()\n",
    "            training_labels = training_labels.numpy()\n",
    "            training_bboxes = training_bboxes.numpy()\n",
    "            break\n",
    "\n",
    "    validation_labels = np.argmax(validation_labels, axis=1)\n",
    "    training_labels = np.argmax(training_labels, axis=1)\n",
    "    return (training_digits, training_labels, training_bboxes,\n",
    "            validation_digits, validation_labels, validation_bboxes)\n"
   ]
  },
  {
   "cell_type": "code",
   "execution_count": 39,
   "id": "4dae11df-94fe-40c0-be4d-f64754fdc4e3",
   "metadata": {},
   "outputs": [],
   "source": [
    "MATPLOTLIB_FONT_DIR = os.path.join(os.path.dirname(plt.__file__), \"mpl-data/fonts/ttf\")\n",
    "\n",
    "def create_digits_from_local_fonts(n):\n",
    "    font_labels = []\n",
    "    img = PIL.Image.new('LA', (75*n, 75), color=0)\n",
    "    font1 = PIL.ImageFont.truetype(os.path.join(MATPLOTLIB_FONT_DIR, 'DejaVuSansMono-Oblique.ttf'), 25)\n",
    "    font2 = PIL.ImageFont.truetype(os.path.join(MATPLOTLIB_FONT_DIR, 'STIXGeneral.ttf'), 25)\n",
    "    d = PIL.ImageDraw.Draw(img)\n",
    "    for i in range(n):\n",
    "        font_labels.append(i % 10)\n",
    "        d.text((7+i*75, 0 if i < 10 else -4), str(i % 10), fill=(255, 255), font=font1 if i < 10 else font2)\n",
    "    font_digits = np.array(img.getdata(), np.float32)[:, 0] / 255.0\n",
    "    font_digits = np.reshape(np.stack(np.split(np.reshape(font_digits, [75, 75*n]), n, axis=1), axis=0), [n, 75*75])\n",
    "    return font_digits, font_labels\n"
   ]
  },
  {
   "cell_type": "code",
   "execution_count": 102,
   "id": "10cdac70-cfad-4c9b-a3b8-bb0f1263b253",
   "metadata": {},
   "outputs": [],
   "source": [
    "def display_digits_with_boxes(digits, predictions, labels, pred_bboxes, bboxes, iou, title):\n",
    "    n = 10\n",
    "\n",
    "    indexes = np.random.choice(len(predictions), size=n)\n",
    "    n_digits = digits[indexes]\n",
    "    n_predictions = predictions[indexes]\n",
    "    n_labels = labels[indexes]\n",
    "\n",
    "    # Always initialize\n",
    "    n_pred_bboxes, n_bboxes, n_iou = [], [], []\n",
    "\n",
    "    if len(iou) > 0:\n",
    "        n_iou = iou[indexes]\n",
    "\n",
    "    if len(pred_bboxes) > 0:\n",
    "        n_pred_bboxes = pred_bboxes[indexes]\n",
    "\n",
    "    if len(bboxes) > 0:\n",
    "        n_bboxes = bboxes[indexes]\n",
    "\n",
    "    n_digits = n_digits * 255.0\n",
    "    n_digits = n_digits.reshape(n, 75, 75)\n",
    "\n",
    "    fig = plt.figure(figsize=(20, 4))\n",
    "    plt.title(title)\n",
    "    plt.xticks([])\n",
    "    plt.yticks([])\n",
    "\n",
    "    \n",
    "    for i in range(n):\n",
    "        ax = fig.add_subplot(1, n, i+1)\n",
    "        bboxes_to_plot = []\n",
    "\n",
    "        if len(n_pred_bboxes) > i:\n",
    "            bboxes_to_plot.append(n_pred_bboxes[i])\n",
    "\n",
    "        if len(n_bboxes) > i:\n",
    "            bboxes_to_plot.append(n_bboxes[i])\n",
    "\n",
    "        img_to_draw = draw_bounding_boxes_on_image_array(\n",
    "            image=n_digits[i],\n",
    "            boxes=np.asarray(bboxes_to_plot),\n",
    "            color=['red', 'green'],\n",
    "            display_str_list=[\"True\", \"Pred\"]\n",
    "        )\n",
    "\n",
    "        plt.xlabel(n_predictions[i])\n",
    "        plt.xticks([])\n",
    "        plt.yticks([])\n",
    "\n",
    "        if n_predictions[i] != n_labels[i]:\n",
    "            ax.xaxis.label.set_color('red')\n",
    "\n",
    "        plt.imshow(img_to_draw)\n",
    "\n",
    "        if len(n_iou) > i:\n",
    "            color = \"black\"\n",
    "            if n_iou[i][0] < iou_threshold:\n",
    "                color = \"red\"\n",
    "            ax.text(0.2, -0.3, \"iou: %s\" % (n_iou[i][0]), color=color, transform=ax.transAxes)\n"
   ]
  },
  {
   "cell_type": "code",
   "execution_count": 89,
   "id": "da16b39e-ef8d-4443-ac9b-f1d64e987811",
   "metadata": {},
   "outputs": [],
   "source": [
    "def plot_metrics(metric_name, title):\n",
    "    plt.title(title)\n",
    "    plt.plot(history.history[metric_name], color='blue', label=metric_name)\n",
    "    plt.plot(history.history['val_' + metric_name], color='green', label='val_' + metric_name)\n"
   ]
  },
  {
   "cell_type": "markdown",
   "id": "85716f6c-ca0d-41ab-b1b9-55ee05f387d8",
   "metadata": {},
   "source": [
    "# 3.Loading and Preprocessing the dataset"
   ]
  },
  {
   "cell_type": "code",
   "execution_count": 90,
   "id": "8f1ae01a-cf9b-4f29-9ba7-717d8f14f17c",
   "metadata": {},
   "outputs": [
    {
     "data": {
      "text/plain": [
       "1"
      ]
     },
     "execution_count": 90,
     "metadata": {},
     "output_type": "execute_result"
    }
   ],
   "source": [
    "strategy = tf.distribute.get_strategy()\n",
    "strategy.num_replicas_in_sync\n"
   ]
  },
  {
   "cell_type": "code",
   "execution_count": 91,
   "id": "bb50b19e-6329-4e27-8afb-834ae29bcb18",
   "metadata": {},
   "outputs": [],
   "source": [
    "BATCH_SIZE = 64 * strategy.num_replicas_in_sync\n"
   ]
  },
  {
   "cell_type": "code",
   "execution_count": 92,
   "id": "bf51c93e-7007-438d-9597-b0f14143d045",
   "metadata": {},
   "outputs": [],
   "source": [
    "def read_image_tfds(image, label):\n",
    "    xmin = tf.random.uniform((), 0, 48, dtype=tf.int32)\n",
    "    ymin = tf.random.uniform((), 0, 48, dtype=tf.int32)\n",
    "\n",
    "    image = tf.reshape(image, (28, 28, 1))\n",
    "    image = tf.image.pad_to_bounding_box(image, ymin, xmin, 75, 75)\n",
    "    image = tf.cast(image, tf.float32) / 255.0\n",
    "\n",
    "    xmin = tf.cast(xmin, tf.float32)\n",
    "    ymin = tf.cast(ymin, tf.float32)\n",
    "\n",
    "    xmax = (xmin + 28) / 75\n",
    "    ymax = (ymin + 28) / 75\n",
    "    xmin = xmin / 75\n",
    "    ymin = ymin / 75\n",
    "\n",
    "    return image, (tf.one_hot(label, 10), [xmin, ymin, xmax, ymax])\n"
   ]
  },
  {
   "cell_type": "code",
   "execution_count": 93,
   "id": "035005bb-e9aa-4480-ac77-f3278ab381c2",
   "metadata": {},
   "outputs": [],
   "source": [
    "def get_training_dataset():\n",
    "    with strategy.scope():\n",
    "        dataset = tfds.load(\"mnist\", split=\"train\", as_supervised=True, try_gcs=True)\n",
    "        dataset = dataset.map(read_image_tfds, num_parallel_calls=16)\n",
    "        dataset = dataset.shuffle(5000, reshuffle_each_iteration=True)\n",
    "        dataset = dataset.repeat()\n",
    "        dataset = dataset.batch(BATCH_SIZE, drop_remainder=True)\n",
    "        dataset = dataset.prefetch(-1)\n",
    "    return dataset\n"
   ]
  },
  {
   "cell_type": "code",
   "execution_count": 94,
   "id": "a3fed6ef-7499-4423-876b-420b9b776640",
   "metadata": {},
   "outputs": [],
   "source": [
    "def get_validation_dataset():\n",
    "    with strategy.scope():\n",
    "        dataset = tfds.load(\"mnist\", split=\"train\", as_supervised=True, try_gcs=True)\n",
    "        dataset = dataset.map(read_image_tfds, num_parallel_calls=16)\n",
    "        dataset = dataset.batch(10000, drop_remainder=True)\n",
    "        dataset = dataset.repeat()\n",
    "    return dataset\n"
   ]
  },
  {
   "cell_type": "code",
   "execution_count": 95,
   "id": "010dcc5f-ab8b-46e1-9e17-8d20e516da1f",
   "metadata": {},
   "outputs": [],
   "source": [
    "with strategy.scope():\n",
    "    training_dataset = get_training_dataset()\n",
    "    validation_dataset = get_validation_dataset()\n"
   ]
  },
  {
   "cell_type": "code",
   "execution_count": 97,
   "id": "7f492b4b-f4b5-426a-8da9-3404fcad18c4",
   "metadata": {},
   "outputs": [],
   "source": [
    "(training_digits, training_labels, training_bboxes,\n",
    " validation_digits, validation_labels, validation_bboxes) = dataset_to_numpy_util(\n",
    "    training_dataset, validation_dataset, 10\n",
    ")\n"
   ]
  },
  {
   "cell_type": "markdown",
   "id": "1b7e48ed-e119-4eb9-a5fd-2b2b2596c237",
   "metadata": {},
   "source": [
    "## Visualize Data"
   ]
  },
  {
   "cell_type": "code",
   "execution_count": 103,
   "id": "c3bb68cf-c995-49e9-8cc6-e1f2e530e8ac",
   "metadata": {},
   "outputs": [
    {
     "data": {
      "image/png": "[encoded data removed]",
      "text/plain": [
       "<Figure size 2000x400 with 11 Axes>"
      ]
     },
     "metadata": {},
     "output_type": "display_data"
    }
   ],
   "source": [
    "display_digits_with_boxes(training_digits, training_labels,\n",
    "                          training_labels, np.array([]), training_bboxes,\n",
    "                          np.array([]), \"Training Digits & Labels\")\n"
   ]
  },
  {
   "cell_type": "code",
   "execution_count": 104,
   "id": "01c52a6a-dac2-43dc-a925-eb7a4681829c",
   "metadata": {},
   "outputs": [
    {
     "data": {
      "image/png": "[encoded data removed]",
      "text/plain": [
       "<Figure size 2000x400 with 11 Axes>"
      ]
     },
     "metadata": {},
     "output_type": "display_data"
    }
   ],
   "source": [
    "display_digits_with_boxes(\n",
    "    validation_digits, \n",
    "    validation_labels,        # temp: use labels as \"predictions\"\n",
    "    validation_labels, \n",
    "    np.array([]), \n",
    "    validation_bboxes, \n",
    "    np.array([]), \n",
    "    \"Validation Digits & Labels\"\n",
    ")\n"
   ]
  },
  {
   "cell_type": "markdown",
   "id": "11c1c0d6-2b28-4456-b157-24019657f567",
   "metadata": {},
   "source": [
    "## 4. Define the Network"
   ]
  },
  {
   "cell_type": "code",
   "execution_count": 105,
   "id": "9b41056a-9458-4963-94f2-0ba1849c14d5",
   "metadata": {},
   "outputs": [],
   "source": [
    "def feature_extractor(inputs):\n",
    "    x = tf.keras.layers.Conv2D(16, activation='relu', kernel_size=3, input_shape=(75,75,1))(inputs)\n",
    "    x = tf.keras.layers.AveragePooling2D((2,2))(x)\n",
    "\n",
    "    x = tf.keras.layers.Conv2D(32, activation='relu', kernel_size=3)(x)\n",
    "    x = tf.keras.layers.AveragePooling2D((2,2))(x)\n",
    "\n",
    "    x = tf.keras.layers.Conv2D(64, activation='relu', kernel_size=3)(x)\n",
    "    x = tf.keras.layers.AveragePooling2D((2,2))(x)\n",
    "\n",
    "    return x\n"
   ]
  },
  {
   "cell_type": "code",
   "execution_count": 106,
   "id": "87e604b0-6d5f-41ef-a834-4a84e4209c04",
   "metadata": {},
   "outputs": [],
   "source": [
    "def dense_layers(inputs):\n",
    "    x = tf.keras.layers.Flatten()(inputs)\n",
    "    x = tf.keras.layers.Dense(128, activation='relu')(x)\n",
    "    return x\n"
   ]
  },
  {
   "cell_type": "code",
   "execution_count": 107,
   "id": "0d0d9aa4-5bbc-43dc-9112-386e5955f771",
   "metadata": {},
   "outputs": [],
   "source": [
    "def classifier(inputs):\n",
    "    classification_output = tf.keras.layers.Dense(10, activation='softmax', name=\"classification\")(inputs)\n",
    "    return classification_output\n"
   ]
  },
  {
   "cell_type": "code",
   "execution_count": 108,
   "id": "49f85ad5-4dca-479a-910b-d0d53141da2c",
   "metadata": {},
   "outputs": [],
   "source": [
    "def bounding_box_regression(inputs):\n",
    "    bounding_box_regression_output = tf.keras.layers.Dense(4, name=\"bounding_box\")(inputs)\n",
    "    return bounding_box_regression_output\n"
   ]
  },
  {
   "cell_type": "code",
   "execution_count": 109,
   "id": "09dbd071-6ae3-4c50-8bf4-9db34c92a710",
   "metadata": {},
   "outputs": [],
   "source": [
    "def final_model(inputs):\n",
    "    feature_cnn = feature_extractor(inputs)\n",
    "    dense_output = dense_layers(feature_cnn)\n",
    "\n",
    "    classification_output = classifier(dense_output)\n",
    "    bounding_box_output = bounding_box_regression(dense_output)\n",
    "\n",
    "    model = tf.keras.Model(inputs=inputs, outputs=[classification_output, bounding_box_output])\n",
    "    return model\n"
   ]
  },
  {
   "cell_type": "code",
   "execution_count": 110,
   "id": "de663867-214a-4c43-ad17-65ad549ecabf",
   "metadata": {},
   "outputs": [],
   "source": [
    "def define_and_compile_model(inputs):\n",
    "    model = final_model(inputs)\n",
    "\n",
    "    model.compile(\n",
    "        optimizer='adam',\n",
    "        loss={\n",
    "            'classification': 'categorical_crossentropy',\n",
    "            'bounding_box': 'mse'\n",
    "        },\n",
    "        metrics={\n",
    "            'classification': 'accuracy',\n",
    "            'bounding_box': 'mse'\n",
    "        }\n",
    "    )\n",
    "    return model\n"
   ]
  },
  {
   "cell_type": "code",
   "execution_count": 111,
   "id": "8936c09f-98f9-4520-b4cd-fead67e646d2",
   "metadata": {},
   "outputs": [
    {
     "name": "stdout",
     "output_type": "stream",
     "text": [
      "Model: \"model\"\n",
      "__________________________________________________________________________________________________\n",
      " Layer (type)                   Output Shape         Param #     Connected to                     \n",
      "==================================================================================================\n",
      " input_1 (InputLayer)           [(None, 75, 75, 1)]  0           []                               \n",
      "                                                                                                  \n",
      " conv2d (Conv2D)                (None, 73, 73, 16)   160         ['input_1[0][0]']                \n",
      "                                                                                                  \n",
      " average_pooling2d (AveragePool  (None, 36, 36, 16)  0           ['conv2d[0][0]']                 \n",
      " ing2D)                                                                                           \n",
      "                                                                                                  \n",
      " conv2d_1 (Conv2D)              (None, 34, 34, 32)   4640        ['average_pooling2d[0][0]']      \n",
      "                                                                                                  \n",
      " average_pooling2d_1 (AveragePo  (None, 17, 17, 32)  0           ['conv2d_1[0][0]']               \n",
      " oling2D)                                                                                         \n",
      "                                                                                                  \n",
      " conv2d_2 (Conv2D)              (None, 15, 15, 64)   18496       ['average_pooling2d_1[0][0]']    \n",
      "                                                                                                  \n",
      " average_pooling2d_2 (AveragePo  (None, 7, 7, 64)    0           ['conv2d_2[0][0]']               \n",
      " oling2D)                                                                                         \n",
      "                                                                                                  \n",
      " flatten (Flatten)              (None, 3136)         0           ['average_pooling2d_2[0][0]']    \n",
      "                                                                                                  \n",
      " dense (Dense)                  (None, 128)          401536      ['flatten[0][0]']                \n",
      "                                                                                                  \n",
      " classification (Dense)         (None, 10)           1290        ['dense[0][0]']                  \n",
      "                                                                                                  \n",
      " bounding_box (Dense)           (None, 4)            516         ['dense[0][0]']                  \n",
      "                                                                                                  \n",
      "==================================================================================================\n",
      "Total params: 426,638\n",
      "Trainable params: 426,638\n",
      "Non-trainable params: 0\n",
      "__________________________________________________________________________________________________\n"
     ]
    }
   ],
   "source": [
    "with strategy.scope():\n",
    "    inputs = tf.keras.layers.Input(shape=(75, 75, 1,))\n",
    "    model = define_and_compile_model(inputs)\n",
    "\n",
    "model.summary()\n"
   ]
  },
  {
   "cell_type": "markdown",
   "id": "1cced220-7054-4782-a0fb-8dd81e63addc",
   "metadata": {},
   "source": [
    "## 5. Train and Validate the Model"
   ]
  },
  {
   "cell_type": "code",
   "execution_count": 112,
   "id": "981e5eac-3943-42c8-91a4-1682624cb17a",
   "metadata": {},
   "outputs": [
    {
     "name": "stdout",
     "output_type": "stream",
     "text": [
      "Epoch 1/20\n",
      "937/937 [==============================] - 75s 79ms/step - loss: 0.9151 - classification_loss: 0.8998 - bounding_box_loss: 0.0152 - classification_accuracy: 0.6874 - bounding_box_mse: 0.0152 - val_loss: 0.3172 - val_classification_loss: 0.3087 - val_bounding_box_loss: 0.0085 - val_classification_accuracy: 0.9071 - val_bounding_box_mse: 0.0085\n",
      "Epoch 2/20\n",
      "937/937 [==============================] - 86s 91ms/step - loss: 0.2477 - classification_loss: 0.2415 - bounding_box_loss: 0.0062 - classification_accuracy: 0.9260 - bounding_box_mse: 0.0062 - val_loss: 0.2015 - val_classification_loss: 0.1974 - val_bounding_box_loss: 0.0041 - val_classification_accuracy: 0.9397 - val_bounding_box_mse: 0.0041\n",
      "Epoch 3/20\n",
      "937/937 [==============================] - 90s 96ms/step - loss: 0.1795 - classification_loss: 0.1760 - bounding_box_loss: 0.0035 - classification_accuracy: 0.9462 - bounding_box_mse: 0.0035 - val_loss: 0.1533 - val_classification_loss: 0.1506 - val_bounding_box_loss: 0.0026 - val_classification_accuracy: 0.9542 - val_bounding_box_mse: 0.0026\n",
      "Epoch 4/20\n",
      "937/937 [==============================] - 90s 96ms/step - loss: 0.1447 - classification_loss: 0.1423 - bounding_box_loss: 0.0024 - classification_accuracy: 0.9564 - bounding_box_mse: 0.0024 - val_loss: 0.1162 - val_classification_loss: 0.1143 - val_bounding_box_loss: 0.0018 - val_classification_accuracy: 0.9655 - val_bounding_box_mse: 0.0018\n",
      "Epoch 5/20\n",
      "937/937 [==============================] - 87s 92ms/step - loss: 0.1232 - classification_loss: 0.1213 - bounding_box_loss: 0.0019 - classification_accuracy: 0.9625 - bounding_box_mse: 0.0019 - val_loss: 0.1458 - val_classification_loss: 0.1441 - val_bounding_box_loss: 0.0017 - val_classification_accuracy: 0.9553 - val_bounding_box_mse: 0.0017\n",
      "Epoch 6/20\n",
      "937/937 [==============================] - 82s 87ms/step - loss: 0.1040 - classification_loss: 0.1024 - bounding_box_loss: 0.0016 - classification_accuracy: 0.9677 - bounding_box_mse: 0.0016 - val_loss: 0.0958 - val_classification_loss: 0.0945 - val_bounding_box_loss: 0.0013 - val_classification_accuracy: 0.9730 - val_bounding_box_mse: 0.0013\n",
      "Epoch 7/20\n",
      "937/937 [==============================] - 93s 100ms/step - loss: 0.0938 - classification_loss: 0.0924 - bounding_box_loss: 0.0014 - classification_accuracy: 0.9711 - bounding_box_mse: 0.0014 - val_loss: 0.0885 - val_classification_loss: 0.0873 - val_bounding_box_loss: 0.0012 - val_classification_accuracy: 0.9761 - val_bounding_box_mse: 0.0012\n",
      "Epoch 8/20\n",
      "937/937 [==============================] - 89s 95ms/step - loss: 0.0805 - classification_loss: 0.0792 - bounding_box_loss: 0.0013 - classification_accuracy: 0.9752 - bounding_box_mse: 0.0013 - val_loss: 0.0944 - val_classification_loss: 0.0930 - val_bounding_box_loss: 0.0014 - val_classification_accuracy: 0.9725 - val_bounding_box_mse: 0.0014\n",
      "Epoch 9/20\n",
      "937/937 [==============================] - 92s 98ms/step - loss: 0.0753 - classification_loss: 0.0741 - bounding_box_loss: 0.0012 - classification_accuracy: 0.9766 - bounding_box_mse: 0.0012 - val_loss: 0.0840 - val_classification_loss: 0.0828 - val_bounding_box_loss: 0.0011 - val_classification_accuracy: 0.9746 - val_bounding_box_mse: 0.0011\n",
      "Epoch 10/20\n",
      "937/937 [==============================] - 90s 96ms/step - loss: 0.0670 - classification_loss: 0.0658 - bounding_box_loss: 0.0012 - classification_accuracy: 0.9799 - bounding_box_mse: 0.0012 - val_loss: 0.0656 - val_classification_loss: 0.0645 - val_bounding_box_loss: 0.0011 - val_classification_accuracy: 0.9792 - val_bounding_box_mse: 0.0011\n",
      "Epoch 11/20\n",
      "937/937 [==============================] - 99s 105ms/step - loss: 0.0656 - classification_loss: 0.0645 - bounding_box_loss: 0.0011 - classification_accuracy: 0.9801 - bounding_box_mse: 0.0011 - val_loss: 0.0724 - val_classification_loss: 0.0714 - val_bounding_box_loss: 0.0010 - val_classification_accuracy: 0.9786 - val_bounding_box_mse: 0.0010\n",
      "Epoch 12/20\n",
      "937/937 [==============================] - 90s 96ms/step - loss: 0.0594 - classification_loss: 0.0583 - bounding_box_loss: 0.0011 - classification_accuracy: 0.9817 - bounding_box_mse: 0.0011 - val_loss: 0.0588 - val_classification_loss: 0.0576 - val_bounding_box_loss: 0.0012 - val_classification_accuracy: 0.9831 - val_bounding_box_mse: 0.0012\n",
      "Epoch 13/20\n",
      "937/937 [==============================] - 88s 94ms/step - loss: 0.0571 - classification_loss: 0.0560 - bounding_box_loss: 0.0011 - classification_accuracy: 0.9828 - bounding_box_mse: 0.0011 - val_loss: 0.0583 - val_classification_loss: 0.0573 - val_bounding_box_loss: 9.5436e-04 - val_classification_accuracy: 0.9831 - val_bounding_box_mse: 9.5436e-04\n",
      "Epoch 14/20\n",
      "937/937 [==============================] - 90s 96ms/step - loss: 0.0536 - classification_loss: 0.0526 - bounding_box_loss: 0.0010 - classification_accuracy: 0.9847 - bounding_box_mse: 0.0010 - val_loss: 0.0447 - val_classification_loss: 0.0437 - val_bounding_box_loss: 9.2931e-04 - val_classification_accuracy: 0.9868 - val_bounding_box_mse: 9.2931e-04\n",
      "Epoch 15/20\n",
      "937/937 [==============================] - 84s 90ms/step - loss: 0.0503 - classification_loss: 0.0493 - bounding_box_loss: 9.9624e-04 - classification_accuracy: 0.9846 - bounding_box_mse: 9.9624e-04 - val_loss: 0.0471 - val_classification_loss: 0.0460 - val_bounding_box_loss: 0.0011 - val_classification_accuracy: 0.9849 - val_bounding_box_mse: 0.0011\n",
      "Epoch 16/20\n",
      "937/937 [==============================] - 96s 102ms/step - loss: 0.0479 - classification_loss: 0.0469 - bounding_box_loss: 0.0010 - classification_accuracy: 0.9850 - bounding_box_mse: 0.0010 - val_loss: 0.0497 - val_classification_loss: 0.0487 - val_bounding_box_loss: 0.0010 - val_classification_accuracy: 0.9857 - val_bounding_box_mse: 0.0010\n",
      "Epoch 17/20\n",
      "937/937 [==============================] - 90s 96ms/step - loss: 0.0469 - classification_loss: 0.0459 - bounding_box_loss: 0.0010 - classification_accuracy: 0.9858 - bounding_box_mse: 0.0010 - val_loss: 0.0464 - val_classification_loss: 0.0450 - val_bounding_box_loss: 0.0014 - val_classification_accuracy: 0.9864 - val_bounding_box_mse: 0.0014\n",
      "Epoch 18/20\n",
      "937/937 [==============================] - 99s 106ms/step - loss: 0.0421 - classification_loss: 0.0411 - bounding_box_loss: 9.6624e-04 - classification_accuracy: 0.9872 - bounding_box_mse: 9.6624e-04 - val_loss: 0.0385 - val_classification_loss: 0.0376 - val_bounding_box_loss: 9.3177e-04 - val_classification_accuracy: 0.9887 - val_bounding_box_mse: 9.3177e-04\n",
      "Epoch 19/20\n",
      "937/937 [==============================] - 106s 113ms/step - loss: 0.0428 - classification_loss: 0.0418 - bounding_box_loss: 9.4787e-04 - classification_accuracy: 0.9875 - bounding_box_mse: 9.4787e-04 - val_loss: 0.0381 - val_classification_loss: 0.0371 - val_bounding_box_loss: 0.0010 - val_classification_accuracy: 0.9883 - val_bounding_box_mse: 0.0010\n",
      "Epoch 20/20\n",
      "937/937 [==============================] - 101s 107ms/step - loss: 0.0398 - classification_loss: 0.0388 - bounding_box_loss: 9.3545e-04 - classification_accuracy: 0.9883 - bounding_box_mse: 9.3545e-04 - val_loss: 0.0417 - val_classification_loss: 0.0407 - val_bounding_box_loss: 0.0010 - val_classification_accuracy: 0.9881 - val_bounding_box_mse: 0.0010\n",
      "1/1 [==============================] - 5s 5s/step - loss: 0.0436 - classification_loss: 0.0426 - bounding_box_loss: 0.0010 - classification_accuracy: 0.9873 - bounding_box_mse: 0.0010\n",
      "\n",
      "-----------------------------\n",
      "\n",
      "Validation Accuracy:  0.9872999787330627\n",
      "\n",
      "-----------------------------\n",
      "\n"
     ]
    }
   ],
   "source": [
    "EPOCHS = 20\n",
    "steps_per_epoch = 60000 // BATCH_SIZE\n",
    "\n",
    "history = model.fit(\n",
    "    training_dataset,\n",
    "    steps_per_epoch=steps_per_epoch,\n",
    "    validation_data=validation_dataset,\n",
    "    validation_steps=1,\n",
    "    epochs=EPOCHS\n",
    ")\n",
    "\n",
    "# Evaluate on validation set\n",
    "loss, classification_loss, bounding_box_loss, classification_acc, bounding_box_mse = model.evaluate(\n",
    "    validation_dataset, steps=1\n",
    ")\n",
    "\n",
    "print(\"\\n-----------------------------\\n\")\n",
    "print(\"Validation Accuracy: \", classification_acc)\n",
    "print(\"\\n-----------------------------\\n\")\n"
   ]
  },
  {
   "cell_type": "code",
   "execution_count": 113,
   "id": "5e549c5f-5fb1-475b-84d2-5f87c80f4aa3",
   "metadata": {},
   "outputs": [
    {
     "data": {
      "image/png": "[encoded data removed]",
      "text/plain": [
       "<Figure size 640x480 with 1 Axes>"
      ]
     },
     "metadata": {},
     "output_type": "display_data"
    }
   ],
   "source": [
    "plot_metrics(\"bounding_box_mse\", \"Bounding Box MSE\")\n"
   ]
  },
  {
   "cell_type": "code",
   "execution_count": 114,
   "id": "2c6a8332-50a6-43e7-a091-fba6df450a00",
   "metadata": {},
   "outputs": [
    {
     "data": {
      "image/png": "[encoded data removed]",
      "text/plain": [
       "<Figure size 640x480 with 1 Axes>"
      ]
     },
     "metadata": {},
     "output_type": "display_data"
    }
   ],
   "source": [
    "plot_metrics(\"classification_accuracy\", \"Classification Accuracy\")"
   ]
  },
  {
   "cell_type": "code",
   "execution_count": 115,
   "id": "afb3e66b-2e5d-4144-8408-0271f2134870",
   "metadata": {},
   "outputs": [
    {
     "data": {
      "image/png": "[encoded data removed]",
      "text/plain": [
       "<Figure size 640x480 with 1 Axes>"
      ]
     },
     "metadata": {},
     "output_type": "display_data"
    }
   ],
   "source": [
    "plot_metrics(\"classification_loss\", \"Classification Loss\")\n"
   ]
  },
  {
   "cell_type": "code",
   "execution_count": 116,
   "id": "ee635ab7-141b-4ba7-b6c8-5801f557a3bb",
   "metadata": {},
   "outputs": [],
   "source": [
    "def intersection_over_union(pred_box, true_box):\n",
    "    xmin_pred, ymin_pred, xmax_pred, ymax_pred = np.split(pred_box, 4, axis=1)\n",
    "    xmin_true, ymin_true, xmax_true, ymax_true = np.split(true_box, 4, axis=1)\n",
    "\n",
    "    smoothing_factor = 1e-10\n",
    "\n",
    "    xmin_overlap = np.maximum(xmin_pred, xmin_true)\n",
    "    xmax_overlap = np.minimum(xmax_pred, xmax_true)\n",
    "    ymin_overlap = np.maximum(ymin_pred, ymin_true)\n",
    "    ymax_overlap = np.minimum(ymax_pred, ymax_true)\n",
    "\n",
    "    pred_box_area = (xmax_pred - xmin_pred) * (ymax_pred - ymin_pred)\n",
    "    true_box_area = (xmax_true - xmin_true) * (ymax_true - ymin_true)\n",
    "\n",
    "    overlap_area = np.maximum((xmax_overlap - xmin_overlap), 0) * np.maximum((ymax_overlap - ymin_overlap), 0)\n",
    "    union_area = (pred_box_area + true_box_area - overlap_area)\n",
    "\n",
    "    iou = (overlap_area + smoothing_factor) / (union_area + smoothing_factor)\n",
    "\n",
    "    return iou\n"
   ]
  },
  {
   "cell_type": "code",
   "execution_count": null,
   "id": "b605cdcf-7550-4022-9b0a-316e3ee6c00a",
   "metadata": {},
   "outputs": [
    {
     "name": "stdout",
     "output_type": "stream",
     "text": [
      "130/157 [=======================>......] - ETA: 0s "
     ]
    }
   ],
   "source": [
    "prediction = model.predict(validation_digits, batch_size=64)\n",
    "\n",
    "\n",
    "predicted_labels = np.argmax(prediction[0], axis=1)\n",
    "\n",
    "\n",
    "prediction_bboxes = prediction[1]\n"
   ]
  },
  {
   "cell_type": "code",
   "execution_count": null,
   "id": "56e787e5-519d-4f53-916d-18e148154f8f",
   "metadata": {},
   "outputs": [],
   "source": [
    "iou = intersection_over_union(prediction_bboxes, validation_bboxes)\n",
    "\n",
    "iou_threshold = 0.6\n",
    "\n",
    "display_digits_with_boxes(\n",
    "    validation_digits,\n",
    "    predicted_labels,\n",
    "    validation_labels,\n",
    "    prediction_bboxes,\n",
    "    validation_bboxes,\n",
    "    iou,\n",
    "    \"True and Pred values\"\n",
    " \n",
    ")\n"
   ]
  },
  {
   "cell_type": "code",
   "execution_count": null,
   "id": "4d31f927-ec4a-4028-b7b2-d6167432c72d",
   "metadata": {},
   "outputs": [],
   "source": [
    "display_digits_with_boxes(\n",
    "    validation_digits,\n",
    "    predicted_labels,\n",
    "    validation_labels,\n",
    "    prediction_bboxes,\n",
    "    validation_bboxes,\n",
    "    iou,\n",
    "    \"True and Pred values\"\n",
    ")\n"
   ]
  },
  {
   "cell_type": "code",
   "execution_count": null,
   "id": "d1dda2fa-9711-4667-bf9f-e9f077205bf0",
   "metadata": {},
   "outputs": [],
   "source": []
  }
 ],
 "metadata": {
  "kernelspec": {
   "display_name": "Python [conda env:.conda-tfenv]",
   "language": "python",
   "name": "conda-env-.conda-tfenv-py"
  },
  "language_info": {
   "codemirror_mode": {
    "name": "ipython",
    "version": 3
   },
   "file_extension": ".py",
   "mimetype": "text/x-python",
   "name": "python",
   "nbconvert_exporter": "python",
   "pygments_lexer": "ipython3",
   "version": "3.9.23"
  }
 },
 "nbformat": 4,
 "nbformat_minor": 5
}
